{
 "cells": [
  {
   "cell_type": "code",
   "execution_count": 0,
   "metadata": {
    "application/vnd.databricks.v1+cell": {
     "cellMetadata": {
      "byteLimit": 2048000,
      "rowLimit": 10000
     },
     "inputWidgets": {},
     "nuid": "6520029e-3b38-4ec4-b9d4-8d2eb2051ebb",
     "showTitle": false,
     "tableResultSettingsMap": {},
     "title": ""
    }
   },
   "outputs": [
    {
     "output_type": "stream",
     "name": "stdout",
     "output_type": "stream",
     "text": [
      "root\n |-- User ID: string (nullable = true)\n |-- Age: long (nullable = true)\n |-- Gender: string (nullable = true)\n |-- Location: string (nullable = true)\n |-- Phone Brand: string (nullable = true)\n |-- OS: string (nullable = true)\n |-- Screen Time (hrs/day): double (nullable = true)\n |-- Data Usage (GB/month): double (nullable = true)\n |-- Calls Duration (mins/day): double (nullable = true)\n |-- Number of Apps Installed: long (nullable = true)\n |-- Social Media Time (hrs/day): double (nullable = true)\n |-- E-commerce Spend (INR/month): long (nullable = true)\n |-- Streaming Time (hrs/day): double (nullable = true)\n |-- Gaming Time (hrs/day): double (nullable = true)\n |-- Monthly Recharge Cost (INR): long (nullable = true)\n |-- Primary Use: string (nullable = true)\n\n"
     ]
    }
   ],
   "source": [
    "from pyspark.sql import SparkSession\n",
    "data = spark.read.table('phone_usage_india_csv_i_4_x_sl')\n",
    "data.printSchema()"
   ]
  },
  {
   "cell_type": "code",
   "execution_count": 0,
   "metadata": {
    "application/vnd.databricks.v1+cell": {
     "cellMetadata": {
      "byteLimit": 2048000,
      "rowLimit": 10000
     },
     "inputWidgets": {},
     "nuid": "703d2e92-77f7-4f27-91c8-b88b3a0bcdb4",
     "showTitle": false,
     "tableResultSettingsMap": {},
     "title": ""
    }
   },
   "outputs": [
    {
     "output_type": "stream",
     "name": "stdout",
     "output_type": "stream",
     "text": [
      "+-------+---+------+---------+-----------+-------+---------------------+---------------------+-------------------------+------------------------+---------------------------+----------------------------+------------------------+---------------------+---------------------------+-------------+\n|User ID|Age|Gender| Location|Phone Brand|     OS|Screen Time (hrs/day)|Data Usage (GB/month)|Calls Duration (mins/day)|Number of Apps Installed|Social Media Time (hrs/day)|E-commerce Spend (INR/month)|Streaming Time (hrs/day)|Gaming Time (hrs/day)|Monthly Recharge Cost (INR)|  Primary Use|\n+-------+---+------+---------+-----------+-------+---------------------+---------------------+-------------------------+------------------------+---------------------------+----------------------------+------------------------+---------------------+---------------------------+-------------+\n| U00001| 53|  Male|   Mumbai|       Vivo|Android|                  3.7|                 23.9|                     37.9|                     104|                        3.9|                         469|                     5.2|                  4.1|                        803|    Education|\n| U00002| 60| Other|    Delhi|     Realme|    iOS|                  9.2|                 28.1|                     13.7|                     169|                        2.8|                        4997|                     5.1|                  0.4|                       1526|       Gaming|\n| U00003| 37|Female|Ahmedabad|      Nokia|Android|                  4.5|                 12.3|                     66.8|                      96|                        3.0|                        2381|                     1.7|                  2.9|                       1619|Entertainment|\n| U00004| 32|  Male|     Pune|    Samsung|Android|                 11.0|                 25.6|                    156.2|                     146|                        5.2|                        1185|                     3.2|                  0.3|                       1560|Entertainment|\n| U00005| 16|  Male|   Mumbai|     Xiaomi|    iOS|                  2.2|                  2.5|                    236.2|                      86|                        5.5|                         106|                     3.4|                  2.3|                        742| Social Media|\n+-------+---+------+---------+-----------+-------+---------------------+---------------------+-------------------------+------------------------+---------------------------+----------------------------+------------------------+---------------------+---------------------------+-------------+\nonly showing top 5 rows\n"
     ]
    }
   ],
   "source": [
    "data.show(5)"
   ]
  },
  {
   "cell_type": "code",
   "execution_count": 0,
   "metadata": {
    "application/vnd.databricks.v1+cell": {
     "cellMetadata": {
      "byteLimit": 2048000,
      "rowLimit": 10000
     },
     "inputWidgets": {},
     "nuid": "d2dc9669-59de-42e3-835d-1e5f2e484e62",
     "showTitle": false,
     "tableResultSettingsMap": {},
     "title": ""
    }
   },
   "outputs": [
    {
     "output_type": "execute_result",
     "data": {
      "text/plain": [
       "['User ID',\n",
       " 'Age',\n",
       " 'Gender',\n",
       " 'Location',\n",
       " 'Phone Brand',\n",
       " 'OS',\n",
       " 'Screen Time (hrs/day)',\n",
       " 'Data Usage (GB/month)',\n",
       " 'Calls Duration (mins/day)',\n",
       " 'Number of Apps Installed',\n",
       " 'Social Media Time (hrs/day)',\n",
       " 'E-commerce Spend (INR/month)',\n",
       " 'Streaming Time (hrs/day)',\n",
       " 'Gaming Time (hrs/day)',\n",
       " 'Monthly Recharge Cost (INR)',\n",
       " 'Primary Use']"
      ]
     },
     "execution_count": 4,
     "metadata": {},
     "output_type": "execute_result"
    }
   ],
   "source": [
    "data.columns"
   ]
  },
  {
   "cell_type": "code",
   "execution_count": 0,
   "metadata": {
    "application/vnd.databricks.v1+cell": {
     "cellMetadata": {
      "byteLimit": 2048000,
      "rowLimit": 10000
     },
     "inputWidgets": {},
     "nuid": "649fa889-f09b-44b7-ac9f-3a61134674c7",
     "showTitle": false,
     "tableResultSettingsMap": {},
     "title": ""
    }
   },
   "outputs": [],
   "source": [
    "## Add new column inside the data\n",
    "data = data.withColumn(\"Screen Time in Minutes\", data[\"Screen Time (hrs/day)\"] * 60)\n"
   ]
  },
  {
   "cell_type": "code",
   "execution_count": 0,
   "metadata": {
    "application/vnd.databricks.v1+cell": {
     "cellMetadata": {
      "byteLimit": 2048000,
      "rowLimit": 10000
     },
     "inputWidgets": {},
     "nuid": "239a2c5e-7c7a-44eb-b5cd-9ae3c3b5b1c4",
     "showTitle": false,
     "tableResultSettingsMap": {},
     "title": ""
    }
   },
   "outputs": [
    {
     "output_type": "execute_result",
     "data": {
      "text/plain": [
       "['User ID',\n",
       " 'Age',\n",
       " 'Gender',\n",
       " 'Location',\n",
       " 'Phone Brand',\n",
       " 'OS',\n",
       " 'Screen Time (hrs/day)',\n",
       " 'Data Usage (GB/month)',\n",
       " 'Calls Duration (mins/day)',\n",
       " 'Number of Apps Installed',\n",
       " 'Social Media Time (hrs/day)',\n",
       " 'E-commerce Spend (INR/month)',\n",
       " 'Streaming Time (hrs/day)',\n",
       " 'Gaming Time (hrs/day)',\n",
       " 'Monthly Recharge Cost (INR)',\n",
       " 'Primary Use',\n",
       " 'Screen Time in Minutes']"
      ]
     },
     "execution_count": 11,
     "metadata": {},
     "output_type": "execute_result"
    }
   ],
   "source": [
    "data.columns"
   ]
  },
  {
   "cell_type": "code",
   "execution_count": 0,
   "metadata": {
    "application/vnd.databricks.v1+cell": {
     "cellMetadata": {
      "byteLimit": 2048000,
      "rowLimit": 10000
     },
     "inputWidgets": {},
     "nuid": "4a09d1d3-5f11-4a4d-b33c-8e2d86388225",
     "showTitle": false,
     "tableResultSettingsMap": {},
     "title": ""
    }
   },
   "outputs": [
    {
     "output_type": "stream",
     "name": "stdout",
     "output_type": "stream",
     "text": [
      "+----------------------+---------------------+\n|Screen Time in Minutes|Screen Time (hrs/day)|\n+----------------------+---------------------+\n|                 222.0|                  3.7|\n|                 552.0|                  9.2|\n|                 270.0|                  4.5|\n|                 660.0|                 11.0|\n|                 132.0|                  2.2|\n|                 324.0|                  5.4|\n|                 360.0|                  6.0|\n|                 186.0|                  3.1|\n|                 318.0|                  5.3|\n|                 594.0|                  9.9|\n|                  96.0|                  1.6|\n|                 450.0|                  7.5|\n|                 630.0|                 10.5|\n|                 618.0|                 10.3|\n|                 102.0|                  1.7|\n|                 306.0|                  5.1|\n|                 186.0|                  3.1|\n|                 696.0|                 11.6|\n|                 318.0|                  5.3|\n|                 540.0|                  9.0|\n+----------------------+---------------------+\nonly showing top 20 rows\n"
     ]
    }
   ],
   "source": [
    "data.select(\"Screen Time in Minutes\", \"Screen Time (hrs/day)\").show()"
   ]
  },
  {
   "cell_type": "code",
   "execution_count": 0,
   "metadata": {
    "application/vnd.databricks.v1+cell": {
     "cellMetadata": {
      "byteLimit": 2048000,
      "rowLimit": 10000
     },
     "inputWidgets": {},
     "nuid": "47720801-fc16-4bae-91c8-bf112cb44603",
     "showTitle": false,
     "tableResultSettingsMap": {},
     "title": ""
    }
   },
   "outputs": [
    {
     "output_type": "execute_result",
     "data": {
      "text/plain": [
       "['User ID',\n",
       " 'Age',\n",
       " 'Gender',\n",
       " 'Location',\n",
       " 'Phone Brand',\n",
       " 'OS',\n",
       " 'Screen Time (hrs/day)',\n",
       " 'Data Usage',\n",
       " 'Calls Duration (mins/day)',\n",
       " 'Number of Apps Installed',\n",
       " 'Social Media Time (hrs/day)',\n",
       " 'E-commerce Spend (INR/month)',\n",
       " 'Streaming Time (hrs/day)',\n",
       " 'Gaming Time (hrs/day)',\n",
       " 'Monthly Recharge Cost (INR)',\n",
       " 'Primary Use',\n",
       " 'Screen Time in Minutes']"
      ]
     },
     "execution_count": 15,
     "metadata": {},
     "output_type": "execute_result"
    }
   ],
   "source": [
    "## Renaming a column\n",
    "data = data.withColumnRenamed(\"Data Usage (GB/month)\", \"Data Usage\")\n",
    "data.columns"
   ]
  },
  {
   "cell_type": "code",
   "execution_count": 0,
   "metadata": {
    "application/vnd.databricks.v1+cell": {
     "cellMetadata": {
      "byteLimit": 2048000,
      "rowLimit": 10000
     },
     "inputWidgets": {},
     "nuid": "168b4b48-1226-407a-a52d-80cf7c87e5df",
     "showTitle": false,
     "tableResultSettingsMap": {},
     "title": ""
    }
   },
   "outputs": [
    {
     "output_type": "stream",
     "name": "stdout",
     "output_type": "stream",
     "text": [
      "+-------+---+------+---------+------------+-------+---------------------+----------+-------------------------+------------------------+---------------------------+----------------------------+------------------------+---------------------+---------------------------+-------------+----------------------+\n|User ID|Age|Gender| Location| Phone Brand|     OS|Screen Time (hrs/day)|Data Usage|Calls Duration (mins/day)|Number of Apps Installed|Social Media Time (hrs/day)|E-commerce Spend (INR/month)|Streaming Time (hrs/day)|Gaming Time (hrs/day)|Monthly Recharge Cost (INR)|  Primary Use|Screen Time in Minutes|\n+-------+---+------+---------+------------+-------+---------------------+----------+-------------------------+------------------------+---------------------------+----------------------------+------------------------+---------------------+---------------------------+-------------+----------------------+\n| U00001| 53|  Male|   Mumbai|        Vivo|Android|                  3.7|      23.9|                     37.9|                     104|                        3.9|                         469|                     5.2|                  4.1|                        803|    Education|                 222.0|\n| U00002| 60| Other|    Delhi|      Realme|    iOS|                  9.2|      28.1|                     13.7|                     169|                        2.8|                        4997|                     5.1|                  0.4|                       1526|       Gaming|                 552.0|\n| U00003| 37|Female|Ahmedabad|       Nokia|Android|                  4.5|      12.3|                     66.8|                      96|                        3.0|                        2381|                     1.7|                  2.9|                       1619|Entertainment|                 270.0|\n| U00004| 32|  Male|     Pune|     Samsung|Android|                 11.0|      25.6|                    156.2|                     146|                        5.2|                        1185|                     3.2|                  0.3|                       1560|Entertainment|                 660.0|\n| U00007| 57|Female|  Lucknow|       Apple|    iOS|                  6.0|      35.2|                    154.5|                     123|                        0.8|                        2653|                     2.9|                  2.3|                       1073| Social Media|                 360.0|\n| U00008| 56| Other|  Kolkata|      Realme|    iOS|                  3.1|      43.5|                    125.3|                     188|                        2.3|                        9767|                     5.2|                  5.0|                       1136|Entertainment|                 186.0|\n| U00009| 46|Female|  Kolkata|        Oppo|Android|                  5.3|      46.4|                     21.3|                     194|                        3.7|                        2870|                     6.1|                  2.8|                       1253|Entertainment|                 318.0|\n| U00010| 44| Other|  Kolkata|       Apple|    iOS|                  9.9|      10.6|                    180.2|                      84|                        4.8|                        9193|                     7.6|                  0.4|                        168|    Education|                 594.0|\n| U00011| 55| Other|  Lucknow|       Nokia|Android|                  1.6|      23.7|                    192.0|                      27|                        3.1|                        9330|                     1.2|                  2.3|                       1098|         Work|                  96.0|\n| U00012| 41|Female|    Delhi|        Oppo|Android|                  7.5|      23.5|                     84.9|                     187|                        0.9|                         643|                     3.5|                  2.7|                        151| Social Media|                 450.0|\n| U00013| 53|  Male|Bangalore|      Realme|    iOS|                 10.5|       1.4|                     33.7|                     137|                        4.5|                        7854|                     7.2|                  1.4|                        240|    Education|                 630.0|\n| U00014| 35|  Male|   Jaipur|      Realme|Android|                 10.3|      32.4|                    247.1|                     124|                        5.2|                        3347|                     3.8|                  4.5|                        972| Social Media|                 618.0|\n| U00015| 33|Female|   Jaipur|     Samsung|    iOS|                  1.7|      33.2|                    208.8|                     121|                        3.0|                        3185|                     4.2|                  0.5|                       1046|Entertainment|                 102.0|\n| U00016| 52|  Male|Bangalore|Google Pixel|Android|                  5.1|      28.5|                    169.2|                     161|                        4.6|                        6175|                     4.4|                  4.3|                       1769|         Work|                 306.0|\n| U00017| 46| Other|   Mumbai|       Apple|Android|                  3.1|      23.6|                    153.9|                     183|                        2.5|                        6242|                     6.2|                  0.4|                       1679|    Education|                 186.0|\n| U00018| 54|  Male|  Kolkata|       Apple|Android|                 11.6|      12.6|                    210.4|                      62|                        4.9|                        4642|                     0.9|                  4.1|                       1360|Entertainment|                 696.0|\n| U00019| 50|Female|  Chennai|Google Pixel|Android|                  5.3|       5.2|                    235.6|                     188|                        4.6|                        1120|                     1.0|                  0.8|                       1639|         Work|                 318.0|\n| U00020| 40| Other|Hyderabad|    Motorola|    iOS|                  9.0|      38.9|                    289.6|                      62|                        2.4|                        8012|                     7.7|                  2.0|                       1224|         Work|                 540.0|\n| U00021| 60|  Male|     Pune|     Samsung|    iOS|                 10.4|      46.0|                     38.0|                     110|                        3.0|                         511|                     6.8|                  1.3|                        311| Social Media|                 624.0|\n| U00022| 59| Other|     Pune|      Xiaomi|Android|                 11.7|       9.1|                    203.9|                     101|                        5.8|                        2579|                     2.6|                  4.1|                        446|       Gaming|                 702.0|\n+-------+---+------+---------+------------+-------+---------------------+----------+-------------------------+------------------------+---------------------------+----------------------------+------------------------+---------------------+---------------------------+-------------+----------------------+\nonly showing top 20 rows\n"
     ]
    }
   ],
   "source": [
    "data.filter(data[\"Age\"]>30).show()"
   ]
  },
  {
   "cell_type": "code",
   "execution_count": 0,
   "metadata": {
    "application/vnd.databricks.v1+cell": {
     "cellMetadata": {
      "byteLimit": 2048000,
      "rowLimit": 10000
     },
     "inputWidgets": {},
     "nuid": "3578ce03-10ee-44a0-9742-e82486b997fa",
     "showTitle": false,
     "tableResultSettingsMap": {},
     "title": ""
    }
   },
   "outputs": [],
   "source": [
    "## Remove Duplicate\n",
    "df_removed_data = data.drop_duplicates()"
   ]
  },
  {
   "cell_type": "code",
   "execution_count": 0,
   "metadata": {
    "application/vnd.databricks.v1+cell": {
     "cellMetadata": {
      "byteLimit": 2048000,
      "rowLimit": 10000
     },
     "inputWidgets": {},
     "nuid": "7eebc185-0bfc-4f80-860a-619f3f28691f",
     "showTitle": false,
     "tableResultSettingsMap": {},
     "title": ""
    }
   },
   "outputs": [
    {
     "output_type": "stream",
     "name": "stdout",
     "output_type": "stream",
     "text": [
      "17686\n17686\n"
     ]
    }
   ],
   "source": [
    "print(df_removed_data.count())\n",
    "print(df_removed_data.count())\n",
    "## Nno Duplicates available"
   ]
  },
  {
   "cell_type": "code",
   "execution_count": 0,
   "metadata": {
    "application/vnd.databricks.v1+cell": {
     "cellMetadata": {
      "byteLimit": 2048000,
      "rowLimit": 10000
     },
     "inputWidgets": {},
     "nuid": "90df4850-c708-4170-8d30-d5ee2d18d9b3",
     "showTitle": false,
     "tableResultSettingsMap": {},
     "title": ""
    }
   },
   "outputs": [
    {
     "output_type": "stream",
     "name": "stdout",
     "output_type": "stream",
     "text": [
      "+---+-------+---------+------+\n|Age|User ID| Location|Gender|\n+---+-------+---------+------+\n| 15| U00958|   Mumbai| Other|\n| 15| U00211|  Kolkata| Other|\n| 15| U00027|    Delhi|  Male|\n| 15| U00118|   Jaipur| Other|\n| 15| U00461|  Lucknow|  Male|\n| 15| U00249|  Kolkata| Other|\n| 15| U00623|Bangalore|Female|\n| 15| U00471|    Delhi|  Male|\n| 15| U00103|   Mumbai| Other|\n| 15| U00528|     Pune|Female|\n| 15| U00684|     Pune|Female|\n| 15| U00770|   Mumbai| Other|\n| 15| U00641|    Delhi| Other|\n| 15| U00115|     Pune| Other|\n| 15| U00890|     Pune|  Male|\n| 15| U00527|    Delhi| Other|\n| 15| U01087|Hyderabad|Female|\n| 15| U00272|   Mumbai| Other|\n| 15| U00593|Hyderabad| Other|\n| 15| U01030|   Mumbai| Other|\n+---+-------+---------+------+\nonly showing top 20 rows\n"
     ]
    }
   ],
   "source": [
    "data.orderBy(\"Age\", ascending=True).select(\"Age\", \"User ID\", \"Location\", \"Gender\").show()"
   ]
  },
  {
   "cell_type": "code",
   "execution_count": 0,
   "metadata": {
    "application/vnd.databricks.v1+cell": {
     "cellMetadata": {
      "byteLimit": 2048000,
      "rowLimit": 10000
     },
     "inputWidgets": {},
     "nuid": "dd0f82ee-4f19-4331-aa32-8e55591f3a29",
     "showTitle": false,
     "tableResultSettingsMap": {},
     "title": ""
    }
   },
   "outputs": [
    {
     "output_type": "execute_result",
     "data": {
      "text/plain": [
       "['User ID',\n",
       " 'Age',\n",
       " 'Gender',\n",
       " 'Location',\n",
       " 'Phone Brand',\n",
       " 'OS',\n",
       " 'Screen Time (hrs/day)',\n",
       " 'Data Usage',\n",
       " 'Calls Duration (mins/day)',\n",
       " 'Number of Apps Installed',\n",
       " 'Social Media Time (hrs/day)',\n",
       " 'E-commerce Spend (INR/month)',\n",
       " 'Streaming Time (hrs/day)',\n",
       " 'Gaming Time (hrs/day)',\n",
       " 'Monthly Recharge Cost (INR)',\n",
       " 'Primary Use',\n",
       " 'Screen Time in Minutes']"
      ]
     },
     "execution_count": 27,
     "metadata": {},
     "output_type": "execute_result"
    }
   ],
   "source": [
    "data.columns"
   ]
  },
  {
   "cell_type": "code",
   "execution_count": 0,
   "metadata": {
    "application/vnd.databricks.v1+cell": {
     "cellMetadata": {
      "byteLimit": 2048000,
      "rowLimit": 10000
     },
     "inputWidgets": {},
     "nuid": "0685fda4-b577-4a3d-b0f6-e354e0feef47",
     "showTitle": false,
     "tableResultSettingsMap": {},
     "title": ""
    }
   },
   "outputs": [
    {
     "output_type": "execute_result",
     "data": {
      "text/plain": [
       "['User ID',\n",
       " 'Age',\n",
       " 'Gender',\n",
       " 'Phone Brand',\n",
       " 'OS',\n",
       " 'Screen Time (hrs/day)',\n",
       " 'Data Usage',\n",
       " 'Calls Duration (mins/day)',\n",
       " 'Number of Apps Installed',\n",
       " 'Social Media Time (hrs/day)',\n",
       " 'E-commerce Spend (INR/month)',\n",
       " 'Streaming Time (hrs/day)',\n",
       " 'Gaming Time (hrs/day)',\n",
       " 'Monthly Recharge Cost (INR)',\n",
       " 'Primary Use',\n",
       " 'Screen Time in Minutes']"
      ]
     },
     "execution_count": 30,
     "metadata": {},
     "output_type": "execute_result"
    }
   ],
   "source": [
    "## Drop Columns\n",
    "data_drop = data.drop(\"Location\")\n",
    "data_drop.columns"
   ]
  },
  {
   "cell_type": "code",
   "execution_count": 0,
   "metadata": {
    "application/vnd.databricks.v1+cell": {
     "cellMetadata": {
      "byteLimit": 2048000,
      "rowLimit": 10000
     },
     "inputWidgets": {},
     "nuid": "64e86741-9f8e-41fc-9fd3-97ee54e2661a",
     "showTitle": false,
     "tableResultSettingsMap": {},
     "title": ""
    }
   },
   "outputs": [
    {
     "output_type": "execute_result",
     "data": {
      "text/plain": [
       "['User ID',\n",
       " 'Age',\n",
       " 'Gender',\n",
       " 'Location',\n",
       " 'Phone Brand',\n",
       " 'OS',\n",
       " 'Screen Time (hrs/day)',\n",
       " 'Data Usage',\n",
       " 'Calls Duration (mins/day)',\n",
       " 'Number of Apps Installed',\n",
       " 'Social Media Time (hrs/day)',\n",
       " 'E-commerce Spend (INR/month)',\n",
       " 'Streaming Time (hrs/day)',\n",
       " 'Gaming Time (hrs/day)',\n",
       " 'Monthly Recharge Cost (INR)',\n",
       " 'Primary Use',\n",
       " 'Screen Time in Minutes']"
      ]
     },
     "execution_count": 36,
     "metadata": {},
     "output_type": "execute_result"
    }
   ],
   "source": [
    "data.columns"
   ]
  },
  {
   "cell_type": "code",
   "execution_count": 0,
   "metadata": {
    "application/vnd.databricks.v1+cell": {
     "cellMetadata": {
      "byteLimit": 2048000,
      "rowLimit": 10000
     },
     "inputWidgets": {},
     "nuid": "9fce8389-3bbd-41c7-96a3-668f698bc37f",
     "showTitle": false,
     "tableResultSettingsMap": {},
     "title": ""
    }
   },
   "outputs": [
    {
     "output_type": "stream",
     "name": "stdout",
     "output_type": "stream",
     "text": [
      "+--------------------------+\n|sum(Screen Time (hrs/day))|\n+--------------------------+\n|        115779.19999999987|\n+--------------------------+\n\n"
     ]
    }
   ],
   "source": [
    "## Operations\n",
    "data.agg({\"Screen Time (hrs/day)\": \"sum\"}).show()"
   ]
  },
  {
   "cell_type": "code",
   "execution_count": 0,
   "metadata": {
    "application/vnd.databricks.v1+cell": {
     "cellMetadata": {
      "byteLimit": 2048000,
      "rowLimit": 10000
     },
     "inputWidgets": {},
     "nuid": "ac32d5a1-6e6e-4a90-987c-de8c7ba31504",
     "showTitle": false,
     "tableResultSettingsMap": {},
     "title": ""
    }
   },
   "outputs": [
    {
     "output_type": "stream",
     "name": "stdout",
     "output_type": "stream",
     "text": [
      "+--------------------------+\n|max(Screen Time (hrs/day))|\n+--------------------------+\n|                      12.0|\n+--------------------------+\n\n"
     ]
    }
   ],
   "source": [
    "data.agg({\"Screen Time (hrs/day)\": \"max\"}).show()"
   ]
  },
  {
   "cell_type": "code",
   "execution_count": 0,
   "metadata": {
    "application/vnd.databricks.v1+cell": {
     "cellMetadata": {
      "byteLimit": 2048000,
      "rowLimit": 10000
     },
     "inputWidgets": {},
     "nuid": "b584d162-9e04-452c-a03d-cdb6488d7cf3",
     "showTitle": false,
     "tableResultSettingsMap": {},
     "title": ""
    }
   },
   "outputs": [
    {
     "output_type": "stream",
     "name": "stdout",
     "output_type": "stream",
     "text": [
      "+------------+\n| Phone Brand|\n+------------+\n|        Vivo|\n|      Realme|\n|       Nokia|\n|     Samsung|\n|      Xiaomi|\n|        Oppo|\n|       Apple|\n|      Realme|\n|        Oppo|\n|       Apple|\n|       Nokia|\n|        Oppo|\n|      Realme|\n|      Realme|\n|     Samsung|\n|Google Pixel|\n|       Apple|\n|       Apple|\n|Google Pixel|\n|    Motorola|\n+------------+\nonly showing top 20 rows\n"
     ]
    }
   ],
   "source": [
    "data.select(\"Phone Brand\").show()"
   ]
  },
  {
   "cell_type": "code",
   "execution_count": 0,
   "metadata": {
    "application/vnd.databricks.v1+cell": {
     "cellMetadata": {
      "byteLimit": 2048000,
      "rowLimit": 10000
     },
     "inputWidgets": {},
     "nuid": "5f4d7774-5b4c-4910-846b-29f91abdc810",
     "showTitle": false,
     "tableResultSettingsMap": {},
     "title": ""
    }
   },
   "outputs": [
    {
     "output_type": "stream",
     "name": "stdout",
     "output_type": "stream",
     "text": [
      "+------------+--------------------------+\n| Phone Brand|avg(Screen Time (hrs/day))|\n+------------+--------------------------+\n|      Realme|         6.635754824063566|\n|Google Pixel|         6.432793522267206|\n|      Xiaomi|         6.641874653355516|\n|        Oppo|         6.392948717948725|\n|       Nokia|         6.613436123348007|\n|        Vivo|         6.511407902058977|\n|     OnePlus|         6.545213060320976|\n|     Samsung|         6.600963718820852|\n|       Apple|         6.523042253521117|\n|    Motorola|         6.557018054746651|\n+------------+--------------------------+\n\n"
     ]
    }
   ],
   "source": [
    "## Brand effect in screen time\n",
    "data.groupBy(\"Phone Brand\").avg(\"Screen Time (hrs/day)\").show()\n",
    "## There is not brand effect as the avg is same"
   ]
  },
  {
   "cell_type": "code",
   "execution_count": 0,
   "metadata": {
    "application/vnd.databricks.v1+cell": {
     "cellMetadata": {
      "byteLimit": 2048000,
      "rowLimit": 10000
     },
     "inputWidgets": {},
     "nuid": "4518f8bb-25f0-401a-98f1-f8b7e72afca0",
     "showTitle": false,
     "tableResultSettingsMap": {},
     "title": ""
    }
   },
   "outputs": [
    {
     "output_type": "stream",
     "name": "stdout",
     "output_type": "stream",
     "text": [
      "+------------+------------------+\n| Phone Brand|          avg(Age)|\n+------------+------------------+\n|      Realme|37.701475595913735|\n|Google Pixel| 38.13186813186813|\n|      Xiaomi|37.448696616749864|\n|        Oppo| 37.30769230769231|\n|       Nokia|37.272577092511014|\n|        Vivo| 37.06956037840846|\n|     OnePlus| 37.64748201438849|\n|     Samsung|37.678004535147394|\n|       Apple|  37.5769014084507|\n|    Motorola|38.044263249854396|\n+------------+------------------+\n\n"
     ]
    }
   ],
   "source": [
    "data.groupBy(\"Phone Brand\").avg(\"Age\").show()"
   ]
  },
  {
   "cell_type": "code",
   "execution_count": 0,
   "metadata": {
    "application/vnd.databricks.v1+cell": {
     "cellMetadata": {
      "byteLimit": 2048000,
      "rowLimit": 10000
     },
     "inputWidgets": {},
     "nuid": "fca6c83b-70bf-438d-800b-be69e2426f3c",
     "showTitle": false,
     "tableResultSettingsMap": {},
     "title": ""
    }
   },
   "outputs": [
    {
     "output_type": "stream",
     "name": "stdout",
     "output_type": "stream",
     "text": [
      "+------------+--------+\n| Phone Brand|max(Age)|\n+------------+--------+\n|      Realme|      60|\n|Google Pixel|      60|\n|      Xiaomi|      60|\n|        Oppo|      60|\n|       Nokia|      60|\n|        Vivo|      60|\n|     OnePlus|      60|\n|     Samsung|      60|\n|       Apple|      60|\n|    Motorola|      60|\n+------------+--------+\n\n"
     ]
    }
   ],
   "source": [
    "data.groupBy(\"Phone Brand\").max(\"Age\").show()"
   ]
  },
  {
   "cell_type": "code",
   "execution_count": 0,
   "metadata": {
    "application/vnd.databricks.v1+cell": {
     "cellMetadata": {
      "byteLimit": 2048000,
      "rowLimit": 10000
     },
     "inputWidgets": {},
     "nuid": "02841ff6-a2dd-4907-a801-1578e640cd9c",
     "showTitle": false,
     "tableResultSettingsMap": {},
     "title": ""
    }
   },
   "outputs": [
    {
     "output_type": "stream",
     "name": "stdout",
     "output_type": "stream",
     "text": [
      "+------+-----+\n|Gender|count|\n+------+-----+\n|Female| 5969|\n| Other| 5892|\n|  Male| 5825|\n+------+-----+\n\n"
     ]
    }
   ],
   "source": [
    "data.groupBy(\"Gender\").count().show()"
   ]
  },
  {
   "cell_type": "code",
   "execution_count": 0,
   "metadata": {
    "application/vnd.databricks.v1+cell": {
     "cellMetadata": {
      "byteLimit": 2048000,
      "rowLimit": 10000
     },
     "inputWidgets": {},
     "nuid": "42bad6fd-7a99-40a1-aef2-811d17b1d228",
     "showTitle": false,
     "tableResultSettingsMap": {},
     "title": ""
    }
   },
   "outputs": [
    {
     "output_type": "execute_result",
     "data": {
      "text/plain": [
       "['User ID',\n",
       " 'Age',\n",
       " 'Gender',\n",
       " 'Location',\n",
       " 'Phone Brand',\n",
       " 'OS',\n",
       " 'Screen Time (hrs/day)',\n",
       " 'Data Usage',\n",
       " 'Calls Duration (mins/day)',\n",
       " 'Number of Apps Installed',\n",
       " 'Social Media Time (hrs/day)',\n",
       " 'E-commerce Spend (INR/month)',\n",
       " 'Streaming Time (hrs/day)',\n",
       " 'Gaming Time (hrs/day)',\n",
       " 'Monthly Recharge Cost (INR)',\n",
       " 'Primary Use',\n",
       " 'Screen Time in Minutes']"
      ]
     },
     "execution_count": 49,
     "metadata": {},
     "output_type": "execute_result"
    }
   ],
   "source": [
    "data.columns"
   ]
  },
  {
   "cell_type": "code",
   "execution_count": 0,
   "metadata": {
    "application/vnd.databricks.v1+cell": {
     "cellMetadata": {
      "byteLimit": 2048000,
      "rowLimit": 10000
     },
     "inputWidgets": {},
     "nuid": "95d36b4b-255a-4c87-8198-05b1b8cd9fef",
     "showTitle": false,
     "tableResultSettingsMap": {},
     "title": ""
    }
   },
   "outputs": [
    {
     "output_type": "stream",
     "name": "stdout",
     "output_type": "stream",
     "text": [
      "+------+------------------+\n|Gender|   avg(Data Usage)|\n+------+------------------+\n|Female|25.447026302563238|\n| Other| 25.43238289205704|\n|  Male|25.353236051502158|\n+------+------------------+\n\n"
     ]
    }
   ],
   "source": [
    "data.groupBy(\"Gender\").agg({\"Data Usage\": \"avg\"}).show()"
   ]
  },
  {
   "cell_type": "code",
   "execution_count": 0,
   "metadata": {
    "application/vnd.databricks.v1+cell": {
     "cellMetadata": {
      "byteLimit": 2048000,
      "rowLimit": 10000
     },
     "inputWidgets": {},
     "nuid": "ccb570ec-652b-4475-a8e8-076ffb0d9d64",
     "showTitle": false,
     "tableResultSettingsMap": {},
     "title": ""
    }
   },
   "outputs": [
    {
     "output_type": "stream",
     "name": "stdout",
     "output_type": "stream",
     "text": [
      "+------+------------------+\n|Gender|   avg(Data Usage)|\n+------+------------------+\n|Female|25.447026302563238|\n| Other| 25.43238289205704|\n+------+------------------+\n\n"
     ]
    }
   ],
   "source": [
    "data.groupBy(\"Gender\").agg({\"`Data Usage`\": \"avg\"}).filter(\"avg(`Data Usage`) > 25.36\").show()"
   ]
  },
  {
   "cell_type": "code",
   "execution_count": 0,
   "metadata": {
    "application/vnd.databricks.v1+cell": {
     "cellMetadata": {
      "byteLimit": 2048000,
      "rowLimit": 10000
     },
     "inputWidgets": {},
     "nuid": "1d50a288-afae-48d4-b4f8-e6f2d6e7f627",
     "showTitle": false,
     "tableResultSettingsMap": {},
     "title": ""
    }
   },
   "outputs": [
    {
     "output_type": "execute_result",
     "data": {
      "text/plain": [
       "['User ID',\n",
       " 'Age',\n",
       " 'Gender',\n",
       " 'Location',\n",
       " 'Phone Brand',\n",
       " 'OS',\n",
       " 'Screen Time (hrs/day)',\n",
       " 'Data Usage',\n",
       " 'Calls Duration (mins/day)',\n",
       " 'Number of Apps Installed',\n",
       " 'Social Media Time (hrs/day)',\n",
       " 'E-commerce Spend (INR/month)',\n",
       " 'Streaming Time (hrs/day)',\n",
       " 'Gaming Time (hrs/day)',\n",
       " 'Monthly Recharge Cost (INR)',\n",
       " 'Primary Use',\n",
       " 'Screen Time in Minutes']"
      ]
     },
     "execution_count": 57,
     "metadata": {},
     "output_type": "execute_result"
    }
   ],
   "source": [
    "data.columns"
   ]
  },
  {
   "cell_type": "code",
   "execution_count": 0,
   "metadata": {
    "application/vnd.databricks.v1+cell": {
     "cellMetadata": {
      "byteLimit": 2048000,
      "rowLimit": 10000
     },
     "inputWidgets": {},
     "nuid": "b1dd7084-e57b-4f2f-b705-bb4b922703b0",
     "showTitle": false,
     "tableResultSettingsMap": {},
     "title": ""
    }
   },
   "outputs": [
    {
     "output_type": "stream",
     "name": "stdout",
     "output_type": "stream",
     "text": [
      "+-------+------------------+--------------------------+\n|     OS|   sum(Data Usage)|avg(Screen Time (hrs/day))|\n+-------+------------------+--------------------------+\n|    iOS|223198.20000000004|         6.532178834182248|\n|Android|226225.29999999894|        6.5605468308665875|\n+-------+------------------+--------------------------+\n\n"
     ]
    }
   ],
   "source": [
    "# Total screen time wrt.. os and avg\n",
    "data.groupBy(\"OS\").agg({\"Data Usage\": \"sum\", \"Screen Time (hrs/day)\": \"avg\"}).show()"
   ]
  },
  {
   "cell_type": "code",
   "execution_count": 0,
   "metadata": {
    "application/vnd.databricks.v1+cell": {
     "cellMetadata": {
      "byteLimit": 2048000,
      "rowLimit": 10000
     },
     "inputWidgets": {},
     "nuid": "a988b2b1-de0d-4163-b5ee-2694bfc2399b",
     "showTitle": false,
     "tableResultSettingsMap": {},
     "title": ""
    }
   },
   "outputs": [
    {
     "output_type": "stream",
     "name": "stdout",
     "output_type": "stream",
     "text": [
      "+------------------+\n|       stddev(Age)|\n+------------------+\n|13.338251788617141|\n+------------------+\n\n"
     ]
    }
   ],
   "source": [
    "from pyspark.sql.functions import stddev\n",
    "data.select(stddev(\"Age\")).show()"
   ]
  },
  {
   "cell_type": "code",
   "execution_count": 0,
   "metadata": {
    "application/vnd.databricks.v1+cell": {
     "cellMetadata": {
      "byteLimit": 2048000,
      "rowLimit": 10000
     },
     "inputWidgets": {},
     "nuid": "dffc2393-e93c-4a68-9ee8-69432d3165c9",
     "showTitle": false,
     "tableResultSettingsMap": {},
     "title": ""
    }
   },
   "outputs": [
    {
     "output_type": "stream",
     "name": "stdout",
     "output_type": "stream",
     "text": [
      "+------------------+\n|     variance(Age)|\n+------------------+\n|177.90896077654835|\n+------------------+\n\n"
     ]
    }
   ],
   "source": [
    "from pyspark.sql.functions import variance\n",
    "data.select(variance(\"Age\")).show()"
   ]
  },
  {
   "cell_type": "code",
   "execution_count": 0,
   "metadata": {
    "application/vnd.databricks.v1+cell": {
     "cellMetadata": {
      "byteLimit": 2048000,
      "rowLimit": 10000
     },
     "inputWidgets": {},
     "nuid": "cd8c8b44-0252-4f35-82b5-e1653c23e092",
     "showTitle": false,
     "tableResultSettingsMap": {},
     "title": ""
    }
   },
   "outputs": [],
   "source": [
    "from pyspark.sql.functions import concat, upper, lower, length\n"
   ]
  },
  {
   "cell_type": "code",
   "execution_count": 0,
   "metadata": {
    "application/vnd.databricks.v1+cell": {
     "cellMetadata": {
      "byteLimit": 2048000,
      "rowLimit": 10000
     },
     "inputWidgets": {},
     "nuid": "186170c9-7d8f-4faa-b621-1a18e595a34c",
     "showTitle": false,
     "tableResultSettingsMap": {},
     "title": ""
    }
   },
   "outputs": [
    {
     "output_type": "stream",
     "name": "stdout",
     "output_type": "stream",
     "text": [
      "+------+-------+------------+\n|Gender|User ID|  new column|\n+------+-------+------------+\n|  Male| U00001|  U00001Male|\n| Other| U00002| U00002Other|\n|Female| U00003|U00003Female|\n|  Male| U00004|  U00004Male|\n|  Male| U00005|  U00005Male|\n|  Male| U00006|  U00006Male|\n|Female| U00007|U00007Female|\n| Other| U00008| U00008Other|\n|Female| U00009|U00009Female|\n| Other| U00010| U00010Other|\n| Other| U00011| U00011Other|\n|Female| U00012|U00012Female|\n|  Male| U00013|  U00013Male|\n|  Male| U00014|  U00014Male|\n|Female| U00015|U00015Female|\n|  Male| U00016|  U00016Male|\n| Other| U00017| U00017Other|\n|  Male| U00018|  U00018Male|\n|Female| U00019|U00019Female|\n| Other| U00020| U00020Other|\n+------+-------+------------+\nonly showing top 20 rows\n"
     ]
    }
   ],
   "source": [
    "## Concatenate two columns\n",
    "data.withColumn(\"new column\", concat(data['User ID'], data['Gender'])).select(\"Gender\", \"User ID\", \"new column\").show()"
   ]
  },
  {
   "cell_type": "code",
   "execution_count": 0,
   "metadata": {
    "application/vnd.databricks.v1+cell": {
     "cellMetadata": {
      "byteLimit": 2048000,
      "rowLimit": 10000
     },
     "inputWidgets": {},
     "nuid": "5b2e2c9c-80ff-4c1e-ad76-bfc3033c94a8",
     "showTitle": false,
     "tableResultSettingsMap": {},
     "title": ""
    }
   },
   "outputs": [
    {
     "output_type": "stream",
     "name": "stdout",
     "output_type": "stream",
     "text": [
      "+------+\n|Gender|\n+------+\n|  Male|\n| Other|\n|Female|\n|  Male|\n|  Male|\n|  Male|\n|Female|\n| Other|\n|Female|\n| Other|\n| Other|\n|Female|\n|  Male|\n|  Male|\n|Female|\n|  Male|\n| Other|\n|  Male|\n|Female|\n| Other|\n+------+\nonly showing top 20 rows\n"
     ]
    }
   ],
   "source": [
    "data.select(\"Gender\").show()"
   ]
  },
  {
   "cell_type": "code",
   "execution_count": 0,
   "metadata": {
    "application/vnd.databricks.v1+cell": {
     "cellMetadata": {
      "byteLimit": 2048000,
      "rowLimit": 10000
     },
     "inputWidgets": {},
     "nuid": "4eebb6c3-f139-4369-be60-41ef738b5f86",
     "showTitle": false,
     "tableResultSettingsMap": {},
     "title": ""
    }
   },
   "outputs": [
    {
     "output_type": "stream",
     "name": "stdout",
     "output_type": "stream",
     "text": [
      "+------+------------+\n|Gender|gender upper|\n+------+------------+\n|  Male|        MALE|\n| Other|       OTHER|\n|Female|      FEMALE|\n|  Male|        MALE|\n|  Male|        MALE|\n|  Male|        MALE|\n|Female|      FEMALE|\n| Other|       OTHER|\n|Female|      FEMALE|\n| Other|       OTHER|\n| Other|       OTHER|\n|Female|      FEMALE|\n|  Male|        MALE|\n|  Male|        MALE|\n|Female|      FEMALE|\n|  Male|        MALE|\n| Other|       OTHER|\n|  Male|        MALE|\n|Female|      FEMALE|\n| Other|       OTHER|\n+------+------------+\nonly showing top 20 rows\n"
     ]
    }
   ],
   "source": [
    "## Convert Gender column to uppercase\n",
    "data.withColumn(\"gender upper\", upper(data['Gender'])).select(\"Gender\", \"gender upper\").show()"
   ]
  },
  {
   "cell_type": "code",
   "execution_count": 0,
   "metadata": {
    "application/vnd.databricks.v1+cell": {
     "cellMetadata": {
      "byteLimit": 2048000,
      "rowLimit": 10000
     },
     "inputWidgets": {},
     "nuid": "859cf404-fe15-4400-98c7-9d815d932470",
     "showTitle": false,
     "tableResultSettingsMap": {},
     "title": ""
    }
   },
   "outputs": [
    {
     "output_type": "stream",
     "name": "stdout",
     "output_type": "stream",
     "text": [
      "+------+------------+\n|Gender|gender lower|\n+------+------------+\n|  Male|        male|\n| Other|       other|\n|Female|      female|\n|  Male|        male|\n|  Male|        male|\n|  Male|        male|\n|Female|      female|\n| Other|       other|\n|Female|      female|\n| Other|       other|\n| Other|       other|\n|Female|      female|\n|  Male|        male|\n|  Male|        male|\n|Female|      female|\n|  Male|        male|\n| Other|       other|\n|  Male|        male|\n|Female|      female|\n| Other|       other|\n+------+------------+\nonly showing top 20 rows\n"
     ]
    }
   ],
   "source": [
    "## Convert Gender column to lowercase\n",
    "data.withColumn(\"gender lower\", lower(data['Gender'])).select(\"Gender\", \"gender lower\").show()"
   ]
  },
  {
   "cell_type": "code",
   "execution_count": 0,
   "metadata": {
    "application/vnd.databricks.v1+cell": {
     "cellMetadata": {
      "byteLimit": 2048000,
      "rowLimit": 10000
     },
     "inputWidgets": {},
     "nuid": "c1ccf0fc-730a-44bf-a970-7fbdac121d77",
     "showTitle": false,
     "tableResultSettingsMap": {},
     "title": ""
    }
   },
   "outputs": [
    {
     "output_type": "stream",
     "name": "stdout",
     "output_type": "stream",
     "text": [
      "+------+-------------+\n|Gender|gender length|\n+------+-------------+\n|  Male|            4|\n| Other|            5|\n|Female|            6|\n|  Male|            4|\n|  Male|            4|\n|  Male|            4|\n|Female|            6|\n| Other|            5|\n|Female|            6|\n| Other|            5|\n| Other|            5|\n|Female|            6|\n|  Male|            4|\n|  Male|            4|\n|Female|            6|\n|  Male|            4|\n| Other|            5|\n|  Male|            4|\n|Female|            6|\n| Other|            5|\n+------+-------------+\nonly showing top 20 rows\n"
     ]
    }
   ],
   "source": [
    "data.withColumn(\"gender length\", length(data['Gender'])).select(\"Gender\", \"gender length\").show()"
   ]
  },
  {
   "cell_type": "code",
   "execution_count": 0,
   "metadata": {
    "application/vnd.databricks.v1+cell": {
     "cellMetadata": {
      "byteLimit": 2048000,
      "rowLimit": 10000
     },
     "inputWidgets": {},
     "nuid": "010f7eb4-f409-4f40-bd9a-37ef45a0b7f8",
     "showTitle": false,
     "tableResultSettingsMap": {},
     "title": ""
    }
   },
   "outputs": [
    {
     "output_type": "execute_result",
     "data": {
      "text/plain": [
       "<function pyspark.sql.functions.builtin.current_date() -> pyspark.sql.column.Column>"
      ]
     },
     "execution_count": 85,
     "metadata": {},
     "output_type": "execute_result"
    }
   ],
   "source": [
    "## Date Time\n",
    "from pyspark.sql.functions import current_date, current_timestamp, date_add, date_sub\n",
    "\n",
    "current_date"
   ]
  },
  {
   "cell_type": "code",
   "execution_count": 0,
   "metadata": {
    "application/vnd.databricks.v1+cell": {
     "cellMetadata": {
      "byteLimit": 2048000,
      "rowLimit": 10000
     },
     "inputWidgets": {},
     "nuid": "7164420a-c54d-42b7-a25e-a79118003caa",
     "showTitle": false,
     "tableResultSettingsMap": {},
     "title": ""
    }
   },
   "outputs": [
    {
     "output_type": "stream",
     "name": "stdout",
     "output_type": "stream",
     "text": [
      "+---+------------+\n|Age|Current Date|\n+---+------------+\n| 53|  2025-06-17|\n| 60|  2025-06-17|\n| 37|  2025-06-17|\n| 32|  2025-06-17|\n| 16|  2025-06-17|\n| 21|  2025-06-17|\n| 57|  2025-06-17|\n| 56|  2025-06-17|\n| 46|  2025-06-17|\n| 44|  2025-06-17|\n| 55|  2025-06-17|\n| 41|  2025-06-17|\n| 53|  2025-06-17|\n| 35|  2025-06-17|\n| 33|  2025-06-17|\n| 52|  2025-06-17|\n| 46|  2025-06-17|\n| 54|  2025-06-17|\n| 50|  2025-06-17|\n| 40|  2025-06-17|\n+---+------------+\nonly showing top 20 rows\n"
     ]
    }
   ],
   "source": [
    "data.withColumn(\"Current Date\", current_date()).select(\"Age\", \"Current Date\").show()"
   ]
  },
  {
   "cell_type": "code",
   "execution_count": 0,
   "metadata": {
    "application/vnd.databricks.v1+cell": {
     "cellMetadata": {
      "byteLimit": 2048000,
      "rowLimit": 10000
     },
     "inputWidgets": {},
     "nuid": "7900834b-35b7-4fbf-a2ac-fdd1e6bd7228",
     "showTitle": false,
     "tableResultSettingsMap": {},
     "title": ""
    }
   },
   "outputs": [
    {
     "output_type": "stream",
     "name": "stdout",
     "output_type": "stream",
     "text": [
      "+---+--------------------+\n|Age|   Current TimeStamp|\n+---+--------------------+\n| 53|2025-06-17 16:04:...|\n| 60|2025-06-17 16:04:...|\n| 37|2025-06-17 16:04:...|\n| 32|2025-06-17 16:04:...|\n| 16|2025-06-17 16:04:...|\n| 21|2025-06-17 16:04:...|\n| 57|2025-06-17 16:04:...|\n| 56|2025-06-17 16:04:...|\n| 46|2025-06-17 16:04:...|\n| 44|2025-06-17 16:04:...|\n| 55|2025-06-17 16:04:...|\n| 41|2025-06-17 16:04:...|\n| 53|2025-06-17 16:04:...|\n| 35|2025-06-17 16:04:...|\n| 33|2025-06-17 16:04:...|\n| 52|2025-06-17 16:04:...|\n| 46|2025-06-17 16:04:...|\n| 54|2025-06-17 16:04:...|\n| 50|2025-06-17 16:04:...|\n| 40|2025-06-17 16:04:...|\n+---+--------------------+\nonly showing top 20 rows\n"
     ]
    }
   ],
   "source": [
    "data.withColumn(\"Current TimeStamp\", current_timestamp()).select(\"Age\", \"Current TimeStamp\").show()"
   ]
  },
  {
   "cell_type": "code",
   "execution_count": 0,
   "metadata": {
    "application/vnd.databricks.v1+cell": {
     "cellMetadata": {
      "byteLimit": 2048000,
      "rowLimit": 10000
     },
     "inputWidgets": {},
     "nuid": "32c92507-eb6e-4e08-a043-c81fa0686190",
     "showTitle": false,
     "tableResultSettingsMap": {},
     "title": ""
    }
   },
   "outputs": [
    {
     "output_type": "stream",
     "name": "stdout",
     "output_type": "stream",
     "text": [
      "+---+-----------+\n|Age|Future_date|\n+---+-----------+\n| 53| 2025-06-27|\n| 60| 2025-06-27|\n| 37| 2025-06-27|\n| 32| 2025-06-27|\n| 16| 2025-06-27|\n| 21| 2025-06-27|\n| 57| 2025-06-27|\n| 56| 2025-06-27|\n| 46| 2025-06-27|\n| 44| 2025-06-27|\n| 55| 2025-06-27|\n| 41| 2025-06-27|\n| 53| 2025-06-27|\n| 35| 2025-06-27|\n| 33| 2025-06-27|\n| 52| 2025-06-27|\n| 46| 2025-06-27|\n| 54| 2025-06-27|\n| 50| 2025-06-27|\n| 40| 2025-06-27|\n+---+-----------+\nonly showing top 20 rows\n"
     ]
    }
   ],
   "source": [
    "data.withColumn(\"Future_date\", date_add(current_date(), 10)).select(\"Age\", \"Future_date\").show()\n",
    "## Adding 10 days to current date\n"
   ]
  },
  {
   "cell_type": "code",
   "execution_count": 0,
   "metadata": {
    "application/vnd.databricks.v1+cell": {
     "cellMetadata": {
      "byteLimit": 2048000,
      "rowLimit": 10000
     },
     "inputWidgets": {},
     "nuid": "5235e7e2-9a96-4d32-a3ba-69123351dd55",
     "showTitle": false,
     "tableResultSettingsMap": {},
     "title": ""
    }
   },
   "outputs": [
    {
     "output_type": "stream",
     "name": "stdout",
     "output_type": "stream",
     "text": [
      "+---+----------+\n|Age| Past_date|\n+---+----------+\n| 53|2025-06-07|\n| 60|2025-06-07|\n| 37|2025-06-07|\n| 32|2025-06-07|\n| 16|2025-06-07|\n| 21|2025-06-07|\n| 57|2025-06-07|\n| 56|2025-06-07|\n| 46|2025-06-07|\n| 44|2025-06-07|\n| 55|2025-06-07|\n| 41|2025-06-07|\n| 53|2025-06-07|\n| 35|2025-06-07|\n| 33|2025-06-07|\n| 52|2025-06-07|\n| 46|2025-06-07|\n| 54|2025-06-07|\n| 50|2025-06-07|\n| 40|2025-06-07|\n+---+----------+\nonly showing top 20 rows\n"
     ]
    }
   ],
   "source": [
    "data.withColumn(\"Past_date\", date_sub(current_date(), 10)).select(\"Age\", \"Past_date\").show()"
   ]
  },
  {
   "cell_type": "code",
   "execution_count": 0,
   "metadata": {
    "application/vnd.databricks.v1+cell": {
     "cellMetadata": {},
     "inputWidgets": {},
     "nuid": "ce1944e6-1ff8-4ea5-8030-dd7547a42120",
     "showTitle": false,
     "tableResultSettingsMap": {},
     "title": ""
    }
   },
   "outputs": [],
   "source": []
  },
  {
   "cell_type": "code",
   "execution_count": 0,
   "metadata": {
    "application/vnd.databricks.v1+cell": {
     "cellMetadata": {},
     "inputWidgets": {},
     "nuid": "972f114a-287b-46f5-85d6-24c5e2373f77",
     "showTitle": false,
     "tableResultSettingsMap": {},
     "title": ""
    }
   },
   "outputs": [],
   "source": []
  },
  {
   "cell_type": "code",
   "execution_count": 0,
   "metadata": {
    "application/vnd.databricks.v1+cell": {
     "cellMetadata": {},
     "inputWidgets": {},
     "nuid": "56272d69-7e34-494e-9a9c-0786de8d272a",
     "showTitle": false,
     "tableResultSettingsMap": {},
     "title": ""
    }
   },
   "outputs": [],
   "source": []
  }
 ],
 "metadata": {
  "application/vnd.databricks.v1+notebook": {
   "computePreferences": null,
   "dashboards": [],
   "environmentMetadata": {
    "base_environment": "",
    "environment_version": "2"
   },
   "inputWidgetPreferences": null,
   "language": "python",
   "notebookMetadata": {
    "pythonIndentUnit": 4
   },
   "notebookName": "spark_demo_2",
   "widgets": {}
  },
  "language_info": {
   "name": "python"
  }
 },
 "nbformat": 4,
 "nbformat_minor": 0
}