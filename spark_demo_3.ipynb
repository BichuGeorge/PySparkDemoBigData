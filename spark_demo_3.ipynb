{
 "cells": [
  {
   "cell_type": "code",
   "execution_count": 0,
   "metadata": {
    "application/vnd.databricks.v1+cell": {
     "cellMetadata": {
      "byteLimit": 2048000,
      "rowLimit": 10000
     },
     "inputWidgets": {},
     "nuid": "d19ced0e-4572-4b78-b3dc-4ffd282e8bc8",
     "showTitle": false,
     "tableResultSettingsMap": {},
     "title": ""
    }
   },
   "outputs": [
    {
     "output_type": "stream",
     "name": "stdout",
     "output_type": "stream",
     "text": [
      "root\n |-- User ID: string (nullable = true)\n |-- Age: long (nullable = true)\n |-- Gender: string (nullable = true)\n |-- Location: string (nullable = true)\n |-- Phone Brand: string (nullable = true)\n |-- OS: string (nullable = true)\n |-- Screen Time (hrs/day): double (nullable = true)\n |-- Data Usage (GB/month): double (nullable = true)\n |-- Calls Duration (mins/day): double (nullable = true)\n |-- Number of Apps Installed: long (nullable = true)\n |-- Social Media Time (hrs/day): double (nullable = true)\n |-- E-commerce Spend (INR/month): long (nullable = true)\n |-- Streaming Time (hrs/day): double (nullable = true)\n |-- Gaming Time (hrs/day): double (nullable = true)\n |-- Monthly Recharge Cost (INR): long (nullable = true)\n |-- Primary Use: string (nullable = true)\n\n"
     ]
    }
   ],
   "source": [
    "from pyspark.sql import SparkSession\n",
    "data = spark.read.table('phone_usage_india_csv_i_4_x_sl')\n",
    "data.printSchema()"
   ]
  },
  {
   "cell_type": "code",
   "execution_count": 0,
   "metadata": {
    "application/vnd.databricks.v1+cell": {
     "cellMetadata": {
      "byteLimit": 2048000,
      "rowLimit": 10000
     },
     "inputWidgets": {},
     "nuid": "735efad2-f07b-4d36-94bc-239877deeaed",
     "showTitle": false,
     "tableResultSettingsMap": {},
     "title": ""
    }
   },
   "outputs": [],
   "source": [
    "spark = SparkSession.builder.appName('First Program in spark').getOrCreate()"
   ]
  },
  {
   "cell_type": "code",
   "execution_count": 0,
   "metadata": {
    "application/vnd.databricks.v1+cell": {
     "cellMetadata": {
      "byteLimit": 2048000,
      "rowLimit": 10000
     },
     "inputWidgets": {},
     "nuid": "dc4f2f25-638d-4c4a-af08-b76158d3acd6",
     "showTitle": false,
     "tableResultSettingsMap": {},
     "title": ""
    }
   },
   "outputs": [],
   "source": [
    "## Optimization Operations\n",
    "##  Divide the dataset based on certain rules\n",
    "## "
   ]
  },
  {
   "cell_type": "code",
   "execution_count": 0,
   "metadata": {
    "application/vnd.databricks.v1+cell": {
     "cellMetadata": {
      "byteLimit": 2048000,
      "rowLimit": 10000
     },
     "inputWidgets": {},
     "nuid": "b863788e-4d80-4381-96a9-07ced78955b9",
     "showTitle": false,
     "tableResultSettingsMap": {},
     "title": ""
    }
   },
   "outputs": [
    {
     "output_type": "stream",
     "name": "stdout",
     "output_type": "stream",
     "text": [
      "+---------+\n| Location|\n+---------+\n|  Lucknow|\n|  Kolkata|\n|Bangalore|\n|  Chennai|\n|   Jaipur|\n|    Delhi|\n|Ahmedabad|\n|   Mumbai|\n|     Pune|\n|Hyderabad|\n+---------+\n\n"
     ]
    }
   ],
   "source": [
    "data.select('Location').distinct().show()"
   ]
  },
  {
   "cell_type": "code",
   "execution_count": 0,
   "metadata": {
    "application/vnd.databricks.v1+cell": {
     "cellMetadata": {
      "byteLimit": 2048000,
      "rowLimit": 10000
     },
     "inputWidgets": {},
     "nuid": "1ce33464-eb2e-4828-bffc-239fb6f75140",
     "showTitle": false,
     "tableResultSettingsMap": {},
     "title": ""
    }
   },
   "outputs": [],
   "source": [
    "## Partition based on a column\n",
    "data.write.option(\"delta.columnMapping.mode\", \"name\") \\\n",
    "    .partitionBy('Location') \\\n",
    "    .mode('overwrite') \\\n",
    "    .saveAsTable('workspace.default.locationbydata')"
   ]
  },
  {
   "cell_type": "code",
   "execution_count": 0,
   "metadata": {
    "application/vnd.databricks.v1+cell": {
     "cellMetadata": {
      "byteLimit": 2048000,
      "rowLimit": 10000
     },
     "inputWidgets": {},
     "nuid": "4dfd442c-f30e-4649-8eda-4da6b2db8e90",
     "showTitle": false,
     "tableResultSettingsMap": {},
     "title": ""
    }
   },
   "outputs": [],
   "source": [
    "data = spark.read.table('locationbydata')"
   ]
  },
  {
   "cell_type": "code",
   "execution_count": 0,
   "metadata": {
    "application/vnd.databricks.v1+cell": {
     "cellMetadata": {
      "byteLimit": 2048000,
      "rowLimit": 10000
     },
     "inputWidgets": {},
     "nuid": "f5c9d370-a1b2-4fdb-b0e5-66d53cb5ee19",
     "showTitle": false,
     "tableResultSettingsMap": {},
     "title": ""
    }
   },
   "outputs": [],
   "source": [
    "## If dataset is skewed, then partition may not give proper insights"
   ]
  },
  {
   "cell_type": "code",
   "execution_count": 0,
   "metadata": {
    "application/vnd.databricks.v1+cell": {
     "cellMetadata": {
      "byteLimit": 2048000,
      "rowLimit": 10000
     },
     "inputWidgets": {},
     "nuid": "e508d1f3-59b5-432c-965c-4306f38ced3c",
     "showTitle": false,
     "tableResultSettingsMap": {},
     "title": ""
    }
   },
   "outputs": [],
   "source": [
    "mumbai_data = data.filter(data['Location']==\"Mumbai\")"
   ]
  },
  {
   "cell_type": "code",
   "execution_count": 0,
   "metadata": {
    "application/vnd.databricks.v1+cell": {
     "cellMetadata": {
      "byteLimit": 2048000,
      "rowLimit": 10000
     },
     "inputWidgets": {},
     "nuid": "25709dce-93c0-40e7-a027-dcd07326e172",
     "showTitle": false,
     "tableResultSettingsMap": {},
     "title": ""
    }
   },
   "outputs": [
    {
     "output_type": "execute_result",
     "data": {
      "text/plain": [
       "['User ID',\n",
       " 'Age',\n",
       " 'Gender',\n",
       " 'Location',\n",
       " 'Phone Brand',\n",
       " 'OS',\n",
       " 'Screen Time (hrs/day)',\n",
       " 'Data Usage (GB/month)',\n",
       " 'Calls Duration (mins/day)',\n",
       " 'Number of Apps Installed',\n",
       " 'Social Media Time (hrs/day)',\n",
       " 'E-commerce Spend (INR/month)',\n",
       " 'Streaming Time (hrs/day)',\n",
       " 'Gaming Time (hrs/day)',\n",
       " 'Monthly Recharge Cost (INR)',\n",
       " 'Primary Use']"
      ]
     },
     "execution_count": 9,
     "metadata": {},
     "output_type": "execute_result"
    }
   ],
   "source": [
    "data.columns"
   ]
  },
  {
   "cell_type": "code",
   "execution_count": 0,
   "metadata": {
    "application/vnd.databricks.v1+cell": {
     "cellMetadata": {
      "byteLimit": 2048000,
      "rowLimit": 10000
     },
     "inputWidgets": {},
     "nuid": "113e8070-5363-4944-8f4f-eab4a359cefa",
     "showTitle": false,
     "tableResultSettingsMap": {},
     "title": ""
    }
   },
   "outputs": [
    {
     "output_type": "stream",
     "name": "stdout",
     "output_type": "stream",
     "text": [
      "+--------+--------------------------+\n|Location|avg(Screen Time (hrs/day))|\n+--------+--------------------------+\n|  Mumbai|        6.4210220673635305|\n+--------+--------------------------+\n\n"
     ]
    }
   ],
   "source": [
    "mumbai_data.groupBy(\"Location\").agg({'Screen Time (hrs/day)':'avg'}).show()\n",
    "## Average screen time for mumbai location"
   ]
  },
  {
   "cell_type": "code",
   "execution_count": 0,
   "metadata": {
    "application/vnd.databricks.v1+cell": {
     "cellMetadata": {
      "byteLimit": 2048000,
      "rowLimit": 10000
     },
     "inputWidgets": {},
     "nuid": "9b9c75cd-b5aa-4716-9565-5f46c94cdaee",
     "showTitle": false,
     "tableResultSettingsMap": {},
     "title": ""
    }
   },
   "outputs": [],
   "source": [
    "from pyspark.sql.functions import broadcast\n",
    "## Making something available to everyone"
   ]
  },
  {
   "cell_type": "code",
   "execution_count": 0,
   "metadata": {
    "application/vnd.databricks.v1+cell": {
     "cellMetadata": {
      "byteLimit": 2048000,
      "rowLimit": 10000
     },
     "inputWidgets": {},
     "nuid": "9dc4ac91-ee75-46e8-92b5-70a82114935f",
     "showTitle": false,
     "tableResultSettingsMap": {},
     "title": ""
    }
   },
   "outputs": [],
   "source": [
    "data = spark.read.table('phone_usage_india_csv_i_4_x_sl')\n",
    "data1 = spark.read.table('phone_usage_india_csv_i_4_x_sl')"
   ]
  },
  {
   "cell_type": "code",
   "execution_count": 0,
   "metadata": {
    "application/vnd.databricks.v1+cell": {
     "cellMetadata": {
      "byteLimit": 2048000,
      "rowLimit": 10000
     },
     "inputWidgets": {},
     "nuid": "06cf32e9-7a7a-4a8e-add0-5a1f16c489d5",
     "showTitle": false,
     "tableResultSettingsMap": {},
     "title": ""
    }
   },
   "outputs": [],
   "source": [
    "data1 = data1.withColumnRenamed(\"Screen Time (hrs/day)\", \"Screen Time\")\n",
    "data1 = data1.withColumnRenamed(\"Location\", \"location1\")"
   ]
  },
  {
   "cell_type": "code",
   "execution_count": 0,
   "metadata": {
    "application/vnd.databricks.v1+cell": {
     "cellMetadata": {
      "byteLimit": 2048000,
      "rowLimit": 10000
     },
     "inputWidgets": {},
     "nuid": "efa675c6-23d8-4a3d-b9dd-96539c12db13",
     "showTitle": false,
     "tableResultSettingsMap": {},
     "title": ""
    }
   },
   "outputs": [
    {
     "output_type": "execute_result",
     "data": {
      "text/plain": [
       "DataFrame[User ID: string, Age: bigint, Gender: string, Location: string, Phone Brand: string, OS: string, Screen Time (hrs/day): double, Data Usage (GB/month): double, Calls Duration (mins/day): double, Number of Apps Installed: bigint, Social Media Time (hrs/day): double, E-commerce Spend (INR/month): bigint, Streaming Time (hrs/day): double, Gaming Time (hrs/day): double, Monthly Recharge Cost (INR): bigint, Primary Use: string, User ID: string, Age: bigint, Gender: string, Location: string, Phone Brand: string, OS: string, Screen Time (hrs/day): double, Data Usage (GB/month): double, Calls Duration (mins/day): double, Number of Apps Installed: bigint, Social Media Time (hrs/day): double, E-commerce Spend (INR/month): bigint, Streaming Time (hrs/day): double, Gaming Time (hrs/day): double, Monthly Recharge Cost (INR): bigint, Primary Use: string]"
      ]
     },
     "execution_count": 44,
     "metadata": {},
     "output_type": "execute_result"
    }
   ],
   "source": [
    "data.join(broadcast(data1))\n",
    "# join two whole  datasets in a broadcasted way."
   ]
  },
  {
   "cell_type": "code",
   "execution_count": 0,
   "metadata": {
    "application/vnd.databricks.v1+cell": {
     "cellMetadata": {
      "byteLimit": 2048000,
      "rowLimit": 10000
     },
     "inputWidgets": {},
     "nuid": "dd861556-9d54-4567-92fb-970c18439aa3",
     "showTitle": false,
     "tableResultSettingsMap": {},
     "title": ""
    }
   },
   "outputs": [],
   "source": [
    "data_joined = data.join(broadcast(data1), data['Phone Brand'] == data1['Phone Brand'], \"inner\")\n",
    "## join when phone brand is same"
   ]
  },
  {
   "cell_type": "code",
   "execution_count": 0,
   "metadata": {
    "application/vnd.databricks.v1+cell": {
     "cellMetadata": {
      "byteLimit": 2048000,
      "rowLimit": 10000
     },
     "inputWidgets": {},
     "nuid": "2ffd8963-fa1a-4f29-8805-811845964dbe",
     "showTitle": false,
     "tableResultSettingsMap": {},
     "title": ""
    }
   },
   "outputs": [],
   "source": [
    "# data_joined is available to all the executor. We donot need to read this data again and can access the data without additional compute"
   ]
  },
  {
   "cell_type": "code",
   "execution_count": 0,
   "metadata": {
    "application/vnd.databricks.v1+cell": {
     "cellMetadata": {
      "byteLimit": 2048000,
      "rowLimit": 10000
     },
     "inputWidgets": {},
     "nuid": "8ea5e0bf-c7cf-44e3-8332-9da72a987ac0",
     "showTitle": false,
     "tableResultSettingsMap": {},
     "title": ""
    }
   },
   "outputs": [
    {
     "output_type": "stream",
     "name": "stdout",
     "output_type": "stream",
     "text": [
      "+---------+--------------------------+\n| Location|avg(Screen Time (hrs/day))|\n+---------+--------------------------+\n|  Lucknow|          6.57994686386791|\n|  Kolkata|        6.4125828194997405|\n|Bangalore|         6.575263746703633|\n|  Chennai|         6.529346644204585|\n|   Jaipur|        6.6547867883182334|\n|    Delhi|         6.469169119619524|\n|Ahmedabad|        6.5639787135415055|\n|   Mumbai|         6.421639501541751|\n|     Pune|         6.667959590053698|\n|Hyderabad|        6.5931141273780405|\n+---------+--------------------------+\n\n"
     ]
    }
   ],
   "source": [
    "data_joined.groupBy(\"Location\").agg({'Screen Time (hrs/day)':'avg'}).show()"
   ]
  },
  {
   "cell_type": "code",
   "execution_count": 0,
   "metadata": {
    "application/vnd.databricks.v1+cell": {
     "cellMetadata": {
      "byteLimit": 2048000,
      "rowLimit": 10000
     },
     "inputWidgets": {},
     "nuid": "23f607c6-9a90-40d5-a5c8-853e68e5f0a0",
     "showTitle": false,
     "tableResultSettingsMap": {},
     "title": ""
    }
   },
   "outputs": [
    {
     "output_type": "execute_result",
     "data": {
      "text/plain": [
       "['User ID',\n",
       " 'Age',\n",
       " 'Gender',\n",
       " 'Location',\n",
       " 'Phone Brand',\n",
       " 'OS',\n",
       " 'Screen Time (hrs/day)',\n",
       " 'Data Usage (GB/month)',\n",
       " 'Calls Duration (mins/day)',\n",
       " 'Number of Apps Installed',\n",
       " 'Social Media Time (hrs/day)',\n",
       " 'E-commerce Spend (INR/month)',\n",
       " 'Streaming Time (hrs/day)',\n",
       " 'Gaming Time (hrs/day)',\n",
       " 'Monthly Recharge Cost (INR)',\n",
       " 'Primary Use',\n",
       " 'User ID',\n",
       " 'Age',\n",
       " 'Gender',\n",
       " 'location1',\n",
       " 'Phone Brand',\n",
       " 'OS',\n",
       " 'Screen Time',\n",
       " 'Data Usage (GB/month)',\n",
       " 'Calls Duration (mins/day)',\n",
       " 'Number of Apps Installed',\n",
       " 'Social Media Time (hrs/day)',\n",
       " 'E-commerce Spend (INR/month)',\n",
       " 'Streaming Time (hrs/day)',\n",
       " 'Gaming Time (hrs/day)',\n",
       " 'Monthly Recharge Cost (INR)',\n",
       " 'Primary Use']"
      ]
     },
     "execution_count": 56,
     "metadata": {},
     "output_type": "execute_result"
    }
   ],
   "source": [
    "data_joined.columns"
   ]
  },
  {
   "cell_type": "code",
   "execution_count": 0,
   "metadata": {
    "application/vnd.databricks.v1+cell": {
     "cellMetadata": {
      "byteLimit": 2048000,
      "rowLimit": 10000
     },
     "inputWidgets": {},
     "nuid": "60a6a0c4-8644-4e74-85d0-5b225d8d2894",
     "showTitle": false,
     "tableResultSettingsMap": {},
     "title": ""
    }
   },
   "outputs": [],
   "source": [
    "## select only relevant columns using the select operation"
   ]
  },
  {
   "cell_type": "code",
   "execution_count": 0,
   "metadata": {
    "application/vnd.databricks.v1+cell": {
     "cellMetadata": {
      "byteLimit": 2048000,
      "rowLimit": 10000
     },
     "inputWidgets": {},
     "nuid": "15bf8b49-d6e2-4ab9-a013-7e4fc9d10fbf",
     "showTitle": false,
     "tableResultSettingsMap": {},
     "title": ""
    }
   },
   "outputs": [
    {
     "output_type": "stream",
     "name": "stdout",
     "output_type": "stream",
     "text": [
      "+------+---+---------+\n|Gender|Age| Location|\n+------+---+---------+\n|  Male| 53|   Mumbai|\n| Other| 60|    Delhi|\n|Female| 37|Ahmedabad|\n|  Male| 32|     Pune|\n|  Male| 16|   Mumbai|\n|  Male| 21|   Jaipur|\n|Female| 57|  Lucknow|\n| Other| 56|  Kolkata|\n|Female| 46|  Kolkata|\n| Other| 44|  Kolkata|\n| Other| 55|  Lucknow|\n|Female| 41|    Delhi|\n|  Male| 53|Bangalore|\n|  Male| 35|   Jaipur|\n|Female| 33|   Jaipur|\n|  Male| 52|Bangalore|\n| Other| 46|   Mumbai|\n|  Male| 54|  Kolkata|\n|Female| 50|  Chennai|\n| Other| 40|Hyderabad|\n+------+---+---------+\nonly showing top 20 rows\n"
     ]
    }
   ],
   "source": [
    "data = spark.read.table('phone_usage_india_csv_i_4_x_sl').select(\"Gender\", \"Age\", \"Location\")\n",
    "data.show()"
   ]
  },
  {
   "cell_type": "code",
   "execution_count": 0,
   "metadata": {
    "application/vnd.databricks.v1+cell": {
     "cellMetadata": {
      "byteLimit": 2048000,
      "rowLimit": 10000
     },
     "inputWidgets": {},
     "nuid": "f01c7c4a-887e-4bc7-bb83-ed3a2c200fac",
     "showTitle": false,
     "tableResultSettingsMap": {},
     "title": ""
    }
   },
   "outputs": [
    {
     "output_type": "stream",
     "name": "stdout",
     "output_type": "stream",
     "text": [
      "== Parsed Logical Plan ==\n'Project ['Gender, 'Age, 'Location]\n+- 'UnresolvedRelation [phone_usage_india_csv_i_4_x_sl], [], false\n\n== Analyzed Logical Plan ==\nGender: string, Age: bigint, Location: string\nProject [Gender#15859, Age#15858L, Location#15860]\n+- SubqueryAlias workspace.default.phone_usage_india_csv_i_4_x_sl\n   +- Relation workspace.default.phone_usage_india_csv_i_4_x_sl[User ID#15857,Age#15858L,Gender#15859,Location#15860,Phone Brand#15861,OS#15862,Screen Time (hrs/day)#15863,Data Usage (GB/month)#15864,Calls Duration (mins/day)#15865,Number of Apps Installed#15866L,Social Media Time (hrs/day)#15867,E-commerce Spend (INR/month)#15868L,Streaming Time (hrs/day)#15869,Gaming Time (hrs/day)#15870,Monthly Recharge Cost (INR)#15871L,Primary Use#15872] parquet\n\n== Optimized Logical Plan ==\nProject [Gender#15859, Age#15858L, Location#15860]\n+- Relation workspace.default.phone_usage_india_csv_i_4_x_sl[User ID#15857,Age#15858L,Gender#15859,Location#15860,Phone Brand#15861,OS#15862,Screen Time (hrs/day)#15863,Data Usage (GB/month)#15864,Calls Duration (mins/day)#15865,Number of Apps Installed#15866L,Social Media Time (hrs/day)#15867,E-commerce Spend (INR/month)#15868L,Streaming Time (hrs/day)#15869,Gaming Time (hrs/day)#15870,Monthly Recharge Cost (INR)#15871L,Primary Use#15872] parquet\n\n== Physical Plan ==\n*(1) ColumnarToRow\n+- PhotonResultStage\n   +- PhotonProject [Gender#15859, Age#15858L, Location#15860]\n      +- PhotonScan parquet workspace.default.phone_usage_india_csv_i_4_x_sl[Age#15858L,Gender#15859,Location#15860] DataFilters: [], DictionaryFilters: [], Format: parquet, Location: PreparedDeltaFileIndex(1 paths)[s3://dbstorage-prod-a33ym/uc/20523a73-e262-47c9-83ca-0423db59c6bc..., OptionalDataFilters: [], PartitionFilters: [], ReadSchema: struct<Age:bigint,Gender:string,Location:string>, RequiredDataFilters: []\n\n== Photon Explanation ==\nThe query is fully supported by Photon.\n== Optimizer Statistics (table names per statistics state) ==\n  missing = phone_usage_india_csv_i_4_x_sl\n  partial = \n  full    = \nCorrective actions: consider running the following command on all tables with missing or partial statistics\n  ANALYZE TABLE <table-name> COMPUTE STATISTICS FOR ALL COLUMNS\n\n"
     ]
    }
   ],
   "source": [
    "data.explain(True)"
   ]
  },
  {
   "cell_type": "code",
   "execution_count": 0,
   "metadata": {
    "application/vnd.databricks.v1+cell": {
     "cellMetadata": {},
     "inputWidgets": {},
     "nuid": "b8e7a224-82a8-474e-b4b2-1422ce779eab",
     "showTitle": false,
     "tableResultSettingsMap": {},
     "title": ""
    }
   },
   "outputs": [],
   "source": []
  },
  {
   "cell_type": "code",
   "execution_count": 0,
   "metadata": {
    "application/vnd.databricks.v1+cell": {
     "cellMetadata": {},
     "inputWidgets": {},
     "nuid": "4db1e8b7-85b9-450c-bd95-85e732ab57e8",
     "showTitle": false,
     "tableResultSettingsMap": {},
     "title": ""
    }
   },
   "outputs": [],
   "source": []
  },
  {
   "cell_type": "code",
   "execution_count": 0,
   "metadata": {
    "application/vnd.databricks.v1+cell": {
     "cellMetadata": {},
     "inputWidgets": {},
     "nuid": "88354d3c-12bd-423e-9515-a0cc2522185f",
     "showTitle": false,
     "tableResultSettingsMap": {},
     "title": ""
    }
   },
   "outputs": [],
   "source": []
  }
 ],
 "metadata": {
  "application/vnd.databricks.v1+notebook": {
   "computePreferences": null,
   "dashboards": [],
   "environmentMetadata": {
    "base_environment": "",
    "environment_version": "2"
   },
   "inputWidgetPreferences": null,
   "language": "python",
   "notebookMetadata": {
    "pythonIndentUnit": 4
   },
   "notebookName": "spark_demo_3",
   "widgets": {}
  },
  "language_info": {
   "name": "python"
  }
 },
 "nbformat": 4,
 "nbformat_minor": 0
}